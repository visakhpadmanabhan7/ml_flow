{
 "cells": [
  {
   "cell_type": "code",
   "execution_count": 5,
   "id": "initial_id",
   "metadata": {
    "collapsed": true,
    "ExecuteTime": {
     "end_time": "2024-07-10T10:40:19.295551Z",
     "start_time": "2024-07-10T10:40:17.890848Z"
    }
   },
   "outputs": [
    {
     "name": "stderr",
     "output_type": "stream",
     "text": [
      "2024/07/10 12:40:17 INFO mlflow.tracking.fluent: Experiment with name '/model-registry' does not exist. Creating a new experiment.\n",
      "/Users/visakh/GitHub/mlflow/venv/lib/python3.11/site-packages/_distutils_hack/__init__.py:18: UserWarning: Distutils was imported before Setuptools, but importing Setuptools also replaces the `distutils` module in `sys.modules`. This may lead to undesirable behaviors or errors. To avoid these issues, avoid using distutils directly, ensure that setuptools is installed in the traditional way (e.g. not an editable install), and/or make sure that setuptools is always imported before distutils.\n",
      "  warnings.warn(\n",
      "/Users/visakh/GitHub/mlflow/venv/lib/python3.11/site-packages/_distutils_hack/__init__.py:33: UserWarning: Setuptools is replacing distutils.\n",
      "  warnings.warn(\"Setuptools is replacing distutils.\")\n",
      "Registered model 'sk-learn-random-forest-reg-model' already exists. Creating a new version of this model...\n",
      "2024/07/10 12:40:19 INFO mlflow.store.model_registry.abstract_store: Waiting up to 300 seconds for model version to finish creation. Model name: sk-learn-random-forest-reg-model, version 2\n",
      "Created version '2' of model 'sk-learn-random-forest-reg-model'.\n"
     ]
    }
   ],
   "source": [
    "from sklearn.datasets import make_regression\n",
    "from sklearn.ensemble import RandomForestRegressor\n",
    "from sklearn.metrics import mean_squared_error\n",
    "from sklearn.model_selection import train_test_split\n",
    "\n",
    "import mlflow\n",
    "import mlflow.sklearn\n",
    "mlflow.set_tracking_uri(\"http://127.0.0.1:8081\")\n",
    "mlflow.set_experiment(\"/model-registry\")\n",
    "\n",
    "with mlflow.start_run() as run:\n",
    "    X, y = make_regression(n_features=4, n_informative=2, random_state=0, shuffle=False)\n",
    "    X_train, X_test, y_train, y_test = train_test_split(\n",
    "        X, y, test_size=0.2, random_state=42\n",
    "    )\n",
    "\n",
    "    params = {\"max_depth\": 2, \"random_state\": 42}\n",
    "    model = RandomForestRegressor(**params)\n",
    "    model.fit(X_train, y_train)\n",
    "\n",
    "    # Log parameters and metrics using the MLflow APIs\n",
    "    mlflow.log_params(params)\n",
    "\n",
    "    y_pred = model.predict(X_test)\n",
    "    mlflow.log_metrics({\"mse\": mean_squared_error(y_test, y_pred)})\n",
    "\n",
    "    # Log the sklearn model and register as version 1\n",
    "    mlflow.sklearn.log_model(\n",
    "        sk_model=model,\n",
    "        artifact_path=\"sklearn-model\",\n",
    "        input_example=X_train,\n",
    "        registered_model_name=\"sk-learn-random-forest-reg-model\",\n",
    "    )\n"
   ]
  },
  {
   "cell_type": "markdown",
   "source": [
    "# Load the model from the Model Registry"
   ],
   "metadata": {
    "collapsed": false
   },
   "id": "b6de85581404d3a3"
  },
  {
   "cell_type": "code",
   "outputs": [
    {
     "name": "stderr",
     "output_type": "stream",
     "text": [
      "/Users/visakh/GitHub/mlflow/venv/lib/python3.11/site-packages/mlflow/store/artifact/utils/models.py:32: FutureWarning: ``mlflow.tracking.client.MlflowClient.get_latest_versions`` is deprecated since 2.9.0. Model registry stages will be removed in a future major release. To learn more about the deprecation of model registry stages, see our migration guide here: https://mlflow.org/docs/latest/model-registry.html#migrating-from-stages\n",
      "  latest = client.get_latest_versions(name, None if stage is None else [stage])\n"
     ]
    },
    {
     "data": {
      "text/plain": "Downloading artifacts:   0%|          | 0/6 [00:00<?, ?it/s]",
      "application/vnd.jupyter.widget-view+json": {
       "version_major": 2,
       "version_minor": 0,
       "model_id": "a4418e2b9cdb4ee9a2dbe90f5c3c3863"
      }
     },
     "metadata": {},
     "output_type": "display_data"
    },
    {
     "name": "stdout",
     "output_type": "stream",
     "text": [
      "[ 16.36355607 -20.09258424   8.0136586    6.16919118  -1.81185423\n",
      "   4.03116362 -24.95801449  68.78053495 -45.0766513   64.44760141\n",
      " -40.16931792 -25.54191065 -14.39985794 -38.0567874    8.05358765\n",
      " -25.73029816 -15.91990041 -10.99985266 -24.2475118  -32.70582446\n",
      "  17.34781751  68.49980732  44.5541425   41.31593646  48.16602726\n",
      " -23.62019943  47.15590018  69.12741949  48.16602726  -0.26024544\n",
      " -28.49126919 -10.99985266  10.73067585 -10.61092056  -4.7324722\n",
      "   2.76556278  58.93099448 -31.19567455 -35.55773052 -23.99366895\n",
      "  48.16602726  13.34984948  12.56552213 -18.66808469 -32.70582446\n",
      " -39.30386685 -34.29680647  48.44675489 -33.40149961  20.35083862\n",
      " -15.0214084  -34.55064932  -2.28963784 -19.61227378   7.6979477\n",
      " -25.86538741 -11.95702358 -15.36598686   5.88539811 -30.23881739\n",
      " -25.47645531 -43.61170248 -43.7442754  -14.59055495 -40.16931792\n",
      " -32.70582446  -2.68114572  -5.39418041  16.15991316  -2.28963784\n",
      "  41.662821    10.04512765  51.22797543 -23.09874036  10.04512765\n",
      "  46.57743645 -20.52376815  -1.6103738  -35.0075932  -15.20884302\n",
      " -35.55773052 -23.40214481  24.10404702 -25.73795219   2.76556278\n",
      " -12.70325885 -18.4990964    9.33443596 -17.86799054 -32.70582446\n",
      "  -1.6103738    3.70754019 -37.62039689  -6.03562026 -34.29680647\n",
      "   1.65384025 -39.4944159   10.59559162 -43.77158907  53.26556903]\n"
     ]
    }
   ],
   "source": [
    "import mlflow.sklearn\n",
    "from sklearn.datasets import make_regression\n",
    "\n",
    "model_name = \"sk-learn-random-forest-reg-model\"\n",
    "model_version = \"latest\"\n",
    "\n",
    "# Load the model from the Model Registry\n",
    "model_uri = f\"models:/{model_name}/{model_version}\"\n",
    "model = mlflow.sklearn.load_model(model_uri)\n",
    "\n",
    "# Generate a new dataset for prediction and predict\n",
    "X_new, _ = make_regression(n_features=4, n_informative=2, random_state=0, shuffle=False)\n",
    "y_pred_new = model.predict(X_new)\n",
    "\n",
    "print(y_pred_new)"
   ],
   "metadata": {
    "collapsed": false,
    "ExecuteTime": {
     "end_time": "2024-07-10T10:42:42.968942Z",
     "start_time": "2024-07-10T10:42:42.807268Z"
    }
   },
   "id": "3d02306185d4eb4d",
   "execution_count": 6
  },
  {
   "cell_type": "code",
   "outputs": [],
   "source": [],
   "metadata": {
    "collapsed": false
   },
   "id": "7289fc8d58a41635"
  }
 ],
 "metadata": {
  "kernelspec": {
   "display_name": "Python 3",
   "language": "python",
   "name": "python3"
  },
  "language_info": {
   "codemirror_mode": {
    "name": "ipython",
    "version": 2
   },
   "file_extension": ".py",
   "mimetype": "text/x-python",
   "name": "python",
   "nbconvert_exporter": "python",
   "pygments_lexer": "ipython2",
   "version": "2.7.6"
  }
 },
 "nbformat": 4,
 "nbformat_minor": 5
}
