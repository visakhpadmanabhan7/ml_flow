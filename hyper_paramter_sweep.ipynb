{
 "cells": [
  {
   "cell_type": "code",
   "execution_count": 3,
   "id": "initial_id",
   "metadata": {
    "collapsed": true,
    "ExecuteTime": {
     "end_time": "2024-07-10T10:05:55.403725Z",
     "start_time": "2024-07-10T10:05:36.839166Z"
    }
   },
   "outputs": [],
   "source": [
    "import keras\n",
    "import numpy as np\n",
    "import pandas as pd\n",
    "from hyperopt import STATUS_OK, Trials, fmin, hp, tpe\n",
    "from sklearn.metrics import mean_squared_error\n",
    "from sklearn.model_selection import train_test_split\n",
    "\n",
    "import mlflow\n",
    "from mlflow.models import infer_signature\n"
   ]
  },
  {
   "cell_type": "markdown",
   "source": [
    "# Getting the dataset and split them into train,test and validation"
   ],
   "metadata": {
    "collapsed": false
   },
   "id": "883cfc9cf9fd0ad3"
  },
  {
   "cell_type": "code",
   "outputs": [
    {
     "data": {
      "text/plain": "   fixed acidity  volatile acidity  citric acid  residual sugar  chlorides  \\\n0            7.0              0.27         0.36            20.7      0.045   \n1            6.3              0.30         0.34             1.6      0.049   \n2            8.1              0.28         0.40             6.9      0.050   \n3            7.2              0.23         0.32             8.5      0.058   \n4            7.2              0.23         0.32             8.5      0.058   \n\n   free sulfur dioxide  total sulfur dioxide  density    pH  sulphates  \\\n0                 45.0                 170.0   1.0010  3.00       0.45   \n1                 14.0                 132.0   0.9940  3.30       0.49   \n2                 30.0                  97.0   0.9951  3.26       0.44   \n3                 47.0                 186.0   0.9956  3.19       0.40   \n4                 47.0                 186.0   0.9956  3.19       0.40   \n\n   alcohol  quality  \n0      8.8        6  \n1      9.5        6  \n2     10.1        6  \n3      9.9        6  \n4      9.9        6  ",
      "text/html": "<div>\n<style scoped>\n    .dataframe tbody tr th:only-of-type {\n        vertical-align: middle;\n    }\n\n    .dataframe tbody tr th {\n        vertical-align: top;\n    }\n\n    .dataframe thead th {\n        text-align: right;\n    }\n</style>\n<table border=\"1\" class=\"dataframe\">\n  <thead>\n    <tr style=\"text-align: right;\">\n      <th></th>\n      <th>fixed acidity</th>\n      <th>volatile acidity</th>\n      <th>citric acid</th>\n      <th>residual sugar</th>\n      <th>chlorides</th>\n      <th>free sulfur dioxide</th>\n      <th>total sulfur dioxide</th>\n      <th>density</th>\n      <th>pH</th>\n      <th>sulphates</th>\n      <th>alcohol</th>\n      <th>quality</th>\n    </tr>\n  </thead>\n  <tbody>\n    <tr>\n      <th>0</th>\n      <td>7.0</td>\n      <td>0.27</td>\n      <td>0.36</td>\n      <td>20.7</td>\n      <td>0.045</td>\n      <td>45.0</td>\n      <td>170.0</td>\n      <td>1.0010</td>\n      <td>3.00</td>\n      <td>0.45</td>\n      <td>8.8</td>\n      <td>6</td>\n    </tr>\n    <tr>\n      <th>1</th>\n      <td>6.3</td>\n      <td>0.30</td>\n      <td>0.34</td>\n      <td>1.6</td>\n      <td>0.049</td>\n      <td>14.0</td>\n      <td>132.0</td>\n      <td>0.9940</td>\n      <td>3.30</td>\n      <td>0.49</td>\n      <td>9.5</td>\n      <td>6</td>\n    </tr>\n    <tr>\n      <th>2</th>\n      <td>8.1</td>\n      <td>0.28</td>\n      <td>0.40</td>\n      <td>6.9</td>\n      <td>0.050</td>\n      <td>30.0</td>\n      <td>97.0</td>\n      <td>0.9951</td>\n      <td>3.26</td>\n      <td>0.44</td>\n      <td>10.1</td>\n      <td>6</td>\n    </tr>\n    <tr>\n      <th>3</th>\n      <td>7.2</td>\n      <td>0.23</td>\n      <td>0.32</td>\n      <td>8.5</td>\n      <td>0.058</td>\n      <td>47.0</td>\n      <td>186.0</td>\n      <td>0.9956</td>\n      <td>3.19</td>\n      <td>0.40</td>\n      <td>9.9</td>\n      <td>6</td>\n    </tr>\n    <tr>\n      <th>4</th>\n      <td>7.2</td>\n      <td>0.23</td>\n      <td>0.32</td>\n      <td>8.5</td>\n      <td>0.058</td>\n      <td>47.0</td>\n      <td>186.0</td>\n      <td>0.9956</td>\n      <td>3.19</td>\n      <td>0.40</td>\n      <td>9.9</td>\n      <td>6</td>\n    </tr>\n  </tbody>\n</table>\n</div>"
     },
     "metadata": {},
     "output_type": "display_data"
    }
   ],
   "source": [
    "# Load dataset\n",
    "data = pd.read_csv(\n",
    "    \"https://raw.githubusercontent.com/mlflow/mlflow/master/tests/datasets/winequality-white.csv\",\n",
    "    sep=\";\",\n",
    ")\n",
    "display(data.head())\n",
    "# Split the data into training, validation, and test sets\n",
    "train, test = train_test_split(data, test_size=0.25, random_state=42)\n",
    "train_x = train.drop([\"quality\"], axis=1).values\n",
    "train_y = train[[\"quality\"]].values.ravel()\n",
    "test_x = test.drop([\"quality\"], axis=1).values\n",
    "test_y = test[[\"quality\"]].values.ravel()\n",
    "train_x, valid_x, train_y, valid_y = train_test_split(\n",
    "    train_x, train_y, test_size=0.2, random_state=42\n",
    ")\n",
    "signature = infer_signature(train_x, train_y)\n"
   ],
   "metadata": {
    "collapsed": false,
    "ExecuteTime": {
     "end_time": "2024-07-10T10:06:26.293940Z",
     "start_time": "2024-07-10T10:06:26.093621Z"
    }
   },
   "id": "a482a0bb2ae53e33",
   "execution_count": 5
  },
  {
   "cell_type": "markdown",
   "source": [
    "# Training the model with a simple neural network"
   ],
   "metadata": {
    "collapsed": false
   },
   "id": "f6c946e6e0dac8f0"
  },
  {
   "cell_type": "code",
   "outputs": [],
   "source": [
    "def train_model(params, epochs, train_x, train_y, valid_x, valid_y, test_x, test_y):\n",
    "    # Define model architecture\n",
    "    mean = np.mean(train_x, axis=0)\n",
    "    var = np.var(train_x, axis=0)\n",
    "    model = keras.Sequential(\n",
    "        [\n",
    "            keras.Input([train_x.shape[1]]),\n",
    "            keras.layers.Normalization(mean=mean, variance=var),\n",
    "            keras.layers.Dense(64, activation=\"relu\"),\n",
    "            keras.layers.Dense(1),\n",
    "        ]\n",
    "    )\n",
    "\n",
    "    # Compile model\n",
    "    model.compile(\n",
    "        optimizer=keras.optimizers.SGD(\n",
    "            learning_rate=params[\"lr\"], momentum=params[\"momentum\"]\n",
    "        ),\n",
    "        loss=\"mean_squared_error\",\n",
    "        metrics=[keras.metrics.RootMeanSquaredError()],\n",
    "    )\n",
    "\n",
    "    # Train model with MLflow tracking\n",
    "    with mlflow.start_run(nested=True):\n",
    "        model.fit(\n",
    "            train_x,\n",
    "            train_y,\n",
    "            validation_data=(valid_x, valid_y),\n",
    "            epochs=epochs,\n",
    "            batch_size=64,\n",
    "        )\n",
    "        # Evaluate the model\n",
    "        eval_result = model.evaluate(valid_x, valid_y, batch_size=64)\n",
    "        eval_rmse = eval_result[1]\n",
    "\n",
    "        # Log parameters and results\n",
    "        mlflow.log_params(params)\n",
    "        mlflow.log_metric(\"eval_rmse\", eval_rmse)\n",
    "\n",
    "        # Log model\n",
    "        mlflow.tensorflow.log_model(model, \"model\", signature=signature)\n",
    "\n",
    "        return {\"loss\": eval_rmse, \"status\": STATUS_OK, \"model\": model}\n"
   ],
   "metadata": {
    "collapsed": false,
    "ExecuteTime": {
     "end_time": "2024-07-10T10:07:09.547728Z",
     "start_time": "2024-07-10T10:07:09.539618Z"
    }
   },
   "id": "ceb80c0575330f3d",
   "execution_count": 6
  },
  {
   "cell_type": "markdown",
   "source": [
    "Obbjective function takes hyperparameters and returns results from the model"
   ],
   "metadata": {
    "collapsed": false
   },
   "id": "79a3dbe6f7f30c62"
  },
  {
   "cell_type": "code",
   "outputs": [],
   "source": [
    "def objective(params):\n",
    "    # MLflow will track the parameters and results for each run\n",
    "    result = train_model(\n",
    "        params,\n",
    "        epochs=3,\n",
    "        train_x=train_x,\n",
    "        train_y=train_y,\n",
    "        valid_x=valid_x,\n",
    "        valid_y=valid_y,\n",
    "        test_x=test_x,\n",
    "        test_y=test_y,\n",
    "    )\n",
    "    return result\n"
   ],
   "metadata": {
    "collapsed": false,
    "ExecuteTime": {
     "end_time": "2024-07-10T10:08:13.506194Z",
     "start_time": "2024-07-10T10:08:13.499503Z"
    }
   },
   "id": "4d70ab9eff6c6cea",
   "execution_count": 8
  },
  {
   "cell_type": "markdown",
   "source": [
    "## Setting hyperparameters search space"
   ],
   "metadata": {
    "collapsed": false
   },
   "id": "f5574dffc7ad53a9"
  },
  {
   "cell_type": "code",
   "outputs": [],
   "source": [
    "space = {\n",
    "    \"lr\": hp.loguniform(\"lr\", np.log(1e-5), np.log(1e-1)),\n",
    "    \"momentum\": hp.uniform(\"momentum\", 0.0, 1.0),\n",
    "}\n"
   ],
   "metadata": {
    "collapsed": false,
    "ExecuteTime": {
     "end_time": "2024-07-10T10:09:22.204486Z",
     "start_time": "2024-07-10T10:09:22.197827Z"
    }
   },
   "id": "2de4c016280ecad3",
   "execution_count": 9
  },
  {
   "cell_type": "markdown",
   "source": [
    "# Merging the hyperparameters search space with the objective function"
   ],
   "metadata": {
    "collapsed": false
   },
   "id": "8ee3d49e516ececf"
  },
  {
   "cell_type": "code",
   "outputs": [
    {
     "name": "stdout",
     "output_type": "stream",
     "text": [
      "Epoch 1/3                                            \n",
      "\n",
      "\u001B[1m 1/46\u001B[0m \u001B[37m━━━━━━━━━━━━━━━━━━━━\u001B[0m \u001B[1m7s\u001B[0m 166ms/step - loss: 32.7667 - root_mean_squared_error: 5.7242\n",
      "\u001B[1m46/46\u001B[0m \u001B[32m━━━━━━━━━━━━━━━━━━━━\u001B[0m\u001B[37m\u001B[0m \u001B[1m0s\u001B[0m 2ms/step - loss: 30.1976 - root_mean_squared_error: 5.4942 - val_loss: 24.6973 - val_root_mean_squared_error: 4.9696\n",
      "\n",
      "Epoch 2/3                                            \n",
      "\n",
      "\u001B[1m 1/46\u001B[0m \u001B[37m━━━━━━━━━━━━━━━━━━━━\u001B[0m \u001B[1m0s\u001B[0m 11ms/step - loss: 23.7322 - root_mean_squared_error: 4.8716\n",
      "\u001B[1m46/46\u001B[0m \u001B[32m━━━━━━━━━━━━━━━━━━━━\u001B[0m\u001B[37m\u001B[0m \u001B[1m0s\u001B[0m 638us/step - loss: 23.2346 - root_mean_squared_error: 4.8196 - val_loss: 19.0097 - val_root_mean_squared_error: 4.3600\n",
      "\n",
      "Epoch 3/3                                            \n",
      "\n",
      "\u001B[1m 1/46\u001B[0m \u001B[37m━━━━━━━━━━━━━━━━━━━━\u001B[0m \u001B[1m0s\u001B[0m 12ms/step - loss: 17.5091 - root_mean_squared_error: 4.1844\n",
      "\u001B[1m46/46\u001B[0m \u001B[32m━━━━━━━━━━━━━━━━━━━━\u001B[0m\u001B[37m\u001B[0m \u001B[1m0s\u001B[0m 648us/step - loss: 17.8900 - root_mean_squared_error: 4.2287 - val_loss: 14.5196 - val_root_mean_squared_error: 3.8105\n",
      "\n",
      "\u001B[1m 1/12\u001B[0m \u001B[32m━\u001B[0m\u001B[37m━━━━━━━━━━━━━━━━━━━\u001B[0m \u001B[1m0s\u001B[0m 9ms/step - loss: 15.2622 - root_mean_squared_error: 3.9067\n",
      "\u001B[1m12/12\u001B[0m \u001B[32m━━━━━━━━━━━━━━━━━━━━\u001B[0m\u001B[37m\u001B[0m \u001B[1m0s\u001B[0m 644us/step - loss: 14.5262 - root_mean_squared_error: 3.8112\n",
      "\n",
      "Epoch 1/3                                                                     \n",
      "\n",
      "\u001B[1m 1/46\u001B[0m \u001B[37m━━━━━━━━━━━━━━━━━━━━\u001B[0m \u001B[1m7s\u001B[0m 157ms/step - loss: 40.7089 - root_mean_squared_error: 6.3804\n",
      "\u001B[1m46/46\u001B[0m \u001B[32m━━━━━━━━━━━━━━━━━━━━\u001B[0m\u001B[37m\u001B[0m \u001B[1m0s\u001B[0m 5ms/step - loss: 30.6121 - root_mean_squared_error: 5.5091 - val_loss: 9.1718 - val_root_mean_squared_error: 3.0285\n",
      "\n",
      "Epoch 2/3                                                                     \n",
      "\n",
      "\u001B[1m 1/46\u001B[0m \u001B[37m━━━━━━━━━━━━━━━━━━━━\u001B[0m \u001B[1m0s\u001B[0m 10ms/step - loss: 9.2117 - root_mean_squared_error: 3.0351\n",
      "\u001B[1m46/46\u001B[0m \u001B[32m━━━━━━━━━━━━━━━━━━━━\u001B[0m\u001B[37m\u001B[0m \u001B[1m0s\u001B[0m 622us/step - loss: 6.6247 - root_mean_squared_error: 2.5622 - val_loss: 2.7973 - val_root_mean_squared_error: 1.6725\n",
      "\n",
      "Epoch 3/3                                                                     \n",
      "\n",
      "\u001B[1m 1/46\u001B[0m \u001B[37m━━━━━━━━━━━━━━━━━━━━\u001B[0m \u001B[1m0s\u001B[0m 10ms/step - loss: 2.6497 - root_mean_squared_error: 1.6278\n",
      "\u001B[1m46/46\u001B[0m \u001B[32m━━━━━━━━━━━━━━━━━━━━\u001B[0m\u001B[37m\u001B[0m \u001B[1m0s\u001B[0m 583us/step - loss: 2.3655 - root_mean_squared_error: 1.5375 - val_loss: 2.0847 - val_root_mean_squared_error: 1.4438\n",
      "\n",
      "\u001B[1m 1/12\u001B[0m \u001B[32m━\u001B[0m\u001B[37m━━━━━━━━━━━━━━━━━━━\u001B[0m \u001B[1m0s\u001B[0m 8ms/step - loss: 1.9239 - root_mean_squared_error: 1.3870\n",
      "\u001B[1m12/12\u001B[0m \u001B[32m━━━━━━━━━━━━━━━━━━━━\u001B[0m\u001B[37m\u001B[0m \u001B[1m0s\u001B[0m 550us/step - loss: 2.0812 - root_mean_squared_error: 1.4422\n",
      "\n",
      "Epoch 1/3                                                                      \n",
      "\n",
      "\u001B[1m 1/46\u001B[0m \u001B[37m━━━━━━━━━━━━━━━━━━━━\u001B[0m \u001B[1m7s\u001B[0m 164ms/step - loss: 35.8939 - root_mean_squared_error: 5.9912\n",
      "\u001B[1m46/46\u001B[0m \u001B[32m━━━━━━━━━━━━━━━━━━━━\u001B[0m\u001B[37m\u001B[0m \u001B[1m0s\u001B[0m 2ms/step - loss: 34.8311 - root_mean_squared_error: 5.9017 - val_loss: 33.1794 - val_root_mean_squared_error: 5.7602\n",
      "\n",
      "Epoch 2/3                                                                      \n",
      "\n",
      "\u001B[1m 1/46\u001B[0m \u001B[37m━━━━━━━━━━━━━━━━━━━━\u001B[0m \u001B[1m0s\u001B[0m 10ms/step - loss: 29.9324 - root_mean_squared_error: 5.4711\n",
      "\u001B[1m46/46\u001B[0m \u001B[32m━━━━━━━━━━━━━━━━━━━━\u001B[0m\u001B[37m\u001B[0m \u001B[1m0s\u001B[0m 604us/step - loss: 32.4074 - root_mean_squared_error: 5.6925 - val_loss: 30.6171 - val_root_mean_squared_error: 5.5333\n",
      "\n",
      "Epoch 3/3                                                                      \n",
      "\n",
      "\u001B[1m 1/46\u001B[0m \u001B[37m━━━━━━━━━━━━━━━━━━━━\u001B[0m \u001B[1m0s\u001B[0m 10ms/step - loss: 31.1656 - root_mean_squared_error: 5.5826\n",
      "\u001B[1m46/46\u001B[0m \u001B[32m━━━━━━━━━━━━━━━━━━━━\u001B[0m\u001B[37m\u001B[0m \u001B[1m0s\u001B[0m 589us/step - loss: 29.8472 - root_mean_squared_error: 5.4632 - val_loss: 28.2606 - val_root_mean_squared_error: 5.3161\n",
      "\n",
      "\u001B[1m 1/12\u001B[0m \u001B[32m━\u001B[0m\u001B[37m━━━━━━━━━━━━━━━━━━━\u001B[0m \u001B[1m0s\u001B[0m 8ms/step - loss: 28.1890 - root_mean_squared_error: 5.3093\n",
      "\u001B[1m12/12\u001B[0m \u001B[32m━━━━━━━━━━━━━━━━━━━━\u001B[0m\u001B[37m\u001B[0m \u001B[1m0s\u001B[0m 491us/step - loss: 28.0496 - root_mean_squared_error: 5.2962\n",
      "\n",
      "Epoch 1/3                                                                      \n",
      "\n",
      "\u001B[1m 1/46\u001B[0m \u001B[37m━━━━━━━━━━━━━━━━━━━━\u001B[0m \u001B[1m7s\u001B[0m 162ms/step - loss: 30.5650 - root_mean_squared_error: 5.5286\n",
      "\u001B[1m46/46\u001B[0m \u001B[32m━━━━━━━━━━━━━━━━━━━━\u001B[0m\u001B[37m\u001B[0m \u001B[1m0s\u001B[0m 2ms/step - loss: 32.4828 - root_mean_squared_error: 5.6991 - val_loss: 28.9319 - val_root_mean_squared_error: 5.3788\n",
      "\n",
      "Epoch 2/3                                                                      \n",
      "\n",
      "\u001B[1m 1/46\u001B[0m \u001B[37m━━━━━━━━━━━━━━━━━━━━\u001B[0m \u001B[1m0s\u001B[0m 10ms/step - loss: 28.7041 - root_mean_squared_error: 5.3576\n",
      "\u001B[1m46/46\u001B[0m \u001B[32m━━━━━━━━━━━━━━━━━━━━\u001B[0m\u001B[37m\u001B[0m \u001B[1m0s\u001B[0m 611us/step - loss: 27.7425 - root_mean_squared_error: 5.2669 - val_loss: 24.7698 - val_root_mean_squared_error: 4.9769\n",
      "\n",
      "Epoch 3/3                                                                      \n",
      "\n",
      "\u001B[1m 1/46\u001B[0m \u001B[37m━━━━━━━━━━━━━━━━━━━━\u001B[0m \u001B[1m0s\u001B[0m 10ms/step - loss: 26.1066 - root_mean_squared_error: 5.1095\n",
      "\u001B[1m46/46\u001B[0m \u001B[32m━━━━━━━━━━━━━━━━━━━━\u001B[0m\u001B[37m\u001B[0m \u001B[1m0s\u001B[0m 600us/step - loss: 24.2359 - root_mean_squared_error: 4.9225 - val_loss: 21.1960 - val_root_mean_squared_error: 4.6039\n",
      "\n",
      "\u001B[1m 1/12\u001B[0m \u001B[32m━\u001B[0m\u001B[37m━━━━━━━━━━━━━━━━━━━\u001B[0m \u001B[1m0s\u001B[0m 8ms/step - loss: 22.0075 - root_mean_squared_error: 4.6912\n",
      "\u001B[1m12/12\u001B[0m \u001B[32m━━━━━━━━━━━━━━━━━━━━\u001B[0m\u001B[37m\u001B[0m \u001B[1m0s\u001B[0m 603us/step - loss: 21.2753 - root_mean_squared_error: 4.6124\n",
      "\n",
      "Epoch 1/3                                                                      \n",
      "\n",
      "\u001B[1m 1/46\u001B[0m \u001B[37m━━━━━━━━━━━━━━━━━━━━\u001B[0m \u001B[1m7s\u001B[0m 162ms/step - loss: 33.0823 - root_mean_squared_error: 5.7517\n",
      "\u001B[1m46/46\u001B[0m \u001B[32m━━━━━━━━━━━━━━━━━━━━\u001B[0m\u001B[37m\u001B[0m \u001B[1m0s\u001B[0m 2ms/step - loss: 32.1153 - root_mean_squared_error: 5.6670 - val_loss: 31.4451 - val_root_mean_squared_error: 5.6076\n",
      "\n",
      "Epoch 2/3                                                                      \n",
      "\n",
      "\u001B[1m 1/46\u001B[0m \u001B[37m━━━━━━━━━━━━━━━━━━━━\u001B[0m \u001B[1m0s\u001B[0m 10ms/step - loss: 33.4487 - root_mean_squared_error: 5.7835\n",
      "\u001B[1m46/46\u001B[0m \u001B[32m━━━━━━━━━━━━━━━━━━━━\u001B[0m\u001B[37m\u001B[0m \u001B[1m0s\u001B[0m 611us/step - loss: 31.2464 - root_mean_squared_error: 5.5897 - val_loss: 30.7673 - val_root_mean_squared_error: 5.5468\n",
      "\n",
      "Epoch 3/3                                                                      \n",
      "\n",
      "\u001B[1m 1/46\u001B[0m \u001B[37m━━━━━━━━━━━━━━━━━━━━\u001B[0m \u001B[1m0s\u001B[0m 11ms/step - loss: 32.8488 - root_mean_squared_error: 5.7314\n",
      "\u001B[1m46/46\u001B[0m \u001B[32m━━━━━━━━━━━━━━━━━━━━\u001B[0m\u001B[37m\u001B[0m \u001B[1m0s\u001B[0m 593us/step - loss: 30.8413 - root_mean_squared_error: 5.5532 - val_loss: 30.1056 - val_root_mean_squared_error: 5.4869\n",
      "\n",
      "\u001B[1m 1/12\u001B[0m \u001B[32m━\u001B[0m\u001B[37m━━━━━━━━━━━━━━━━━━━\u001B[0m \u001B[1m0s\u001B[0m 8ms/step - loss: 30.0337 - root_mean_squared_error: 5.4803\n",
      "\u001B[1m12/12\u001B[0m \u001B[32m━━━━━━━━━━━━━━━━━━━━\u001B[0m\u001B[37m\u001B[0m \u001B[1m0s\u001B[0m 520us/step - loss: 29.8473 - root_mean_squared_error: 5.4632\n",
      "\n",
      "Epoch 1/3                                                                      \n",
      "\n",
      "\u001B[1m 1/46\u001B[0m \u001B[37m━━━━━━━━━━━━━━━━━━━━\u001B[0m \u001B[1m7s\u001B[0m 167ms/step - loss: 31.6925 - root_mean_squared_error: 5.6296\n",
      "\u001B[1m46/46\u001B[0m \u001B[32m━━━━━━━━━━━━━━━━━━━━\u001B[0m\u001B[37m\u001B[0m \u001B[1m0s\u001B[0m 2ms/step - loss: 10.7528 - root_mean_squared_error: 3.1292 - val_loss: 1.4393 - val_root_mean_squared_error: 1.1997\n",
      "\n",
      "Epoch 2/3                                                                      \n",
      "\n",
      "\u001B[1m 1/46\u001B[0m \u001B[37m━━━━━━━━━━━━━━━━━━━━\u001B[0m \u001B[1m0s\u001B[0m 10ms/step - loss: 1.2610 - root_mean_squared_error: 1.1229\n",
      "\u001B[1m46/46\u001B[0m \u001B[32m━━━━━━━━━━━━━━━━━━━━\u001B[0m\u001B[37m\u001B[0m \u001B[1m0s\u001B[0m 666us/step - loss: 1.2716 - root_mean_squared_error: 1.1273 - val_loss: 1.0835 - val_root_mean_squared_error: 1.0409\n",
      "\n",
      "Epoch 3/3                                                                      \n",
      "\n",
      "\u001B[1m 1/46\u001B[0m \u001B[37m━━━━━━━━━━━━━━━━━━━━\u001B[0m \u001B[1m0s\u001B[0m 13ms/step - loss: 0.9450 - root_mean_squared_error: 0.9721\n",
      "\u001B[1m46/46\u001B[0m \u001B[32m━━━━━━━━━━━━━━━━━━━━\u001B[0m\u001B[37m\u001B[0m \u001B[1m0s\u001B[0m 617us/step - loss: 0.9021 - root_mean_squared_error: 0.9497 - val_loss: 0.8642 - val_root_mean_squared_error: 0.9296\n",
      "\n",
      "\u001B[1m 1/12\u001B[0m \u001B[32m━\u001B[0m\u001B[37m━━━━━━━━━━━━━━━━━━━\u001B[0m \u001B[1m0s\u001B[0m 8ms/step - loss: 0.7285 - root_mean_squared_error: 0.8535\n",
      "\u001B[1m12/12\u001B[0m \u001B[32m━━━━━━━━━━━━━━━━━━━━\u001B[0m\u001B[37m\u001B[0m \u001B[1m0s\u001B[0m 490us/step - loss: 0.8580 - root_mean_squared_error: 0.9256\n",
      "\n",
      "Epoch 1/3                                                                      \n",
      "\n",
      "\u001B[1m 1/46\u001B[0m \u001B[37m━━━━━━━━━━━━━━━━━━━━\u001B[0m \u001B[1m7s\u001B[0m 172ms/step - loss: 30.2179 - root_mean_squared_error: 5.4971\n",
      "\u001B[1m46/46\u001B[0m \u001B[32m━━━━━━━━━━━━━━━━━━━━\u001B[0m\u001B[37m\u001B[0m \u001B[1m0s\u001B[0m 2ms/step - loss: 26.0866 - root_mean_squared_error: 5.0999 - val_loss: 13.3280 - val_root_mean_squared_error: 3.6507\n",
      "\n",
      "Epoch 2/3                                                                      \n",
      "\n",
      "\u001B[1m 1/46\u001B[0m \u001B[37m━━━━━━━━━━━━━━━━━━━━\u001B[0m \u001B[1m0s\u001B[0m 11ms/step - loss: 12.7322 - root_mean_squared_error: 3.5682\n",
      "\u001B[1m46/46\u001B[0m \u001B[32m━━━━━━━━━━━━━━━━━━━━\u001B[0m\u001B[37m\u001B[0m \u001B[1m0s\u001B[0m 677us/step - loss: 10.9207 - root_mean_squared_error: 3.2988 - val_loss: 5.6471 - val_root_mean_squared_error: 2.3764\n",
      "\n",
      "Epoch 3/3                                                                      \n",
      "\n",
      "\u001B[1m 1/46\u001B[0m \u001B[37m━━━━━━━━━━━━━━━━━━━━\u001B[0m \u001B[1m0s\u001B[0m 12ms/step - loss: 5.2866 - root_mean_squared_error: 2.2993\n",
      "\u001B[1m46/46\u001B[0m \u001B[32m━━━━━━━━━━━━━━━━━━━━\u001B[0m\u001B[37m\u001B[0m \u001B[1m0s\u001B[0m 622us/step - loss: 4.6953 - root_mean_squared_error: 2.1650 - val_loss: 3.1506 - val_root_mean_squared_error: 1.7750\n",
      "\n",
      "\u001B[1m 1/12\u001B[0m \u001B[32m━\u001B[0m\u001B[37m━━━━━━━━━━━━━━━━━━━\u001B[0m \u001B[1m0s\u001B[0m 9ms/step - loss: 3.1622 - root_mean_squared_error: 1.7783\n",
      "\u001B[1m12/12\u001B[0m \u001B[32m━━━━━━━━━━━━━━━━━━━━\u001B[0m\u001B[37m\u001B[0m \u001B[1m0s\u001B[0m 711us/step - loss: 3.2052 - root_mean_squared_error: 1.7902\n",
      "\n",
      "Epoch 1/3                                                                      \n",
      "\n",
      "\u001B[1m 1/46\u001B[0m \u001B[37m━━━━━━━━━━━━━━━━━━━━\u001B[0m \u001B[1m7s\u001B[0m 159ms/step - loss: 40.1319 - root_mean_squared_error: 6.3350\n",
      "\u001B[1m46/46\u001B[0m \u001B[32m━━━━━━━━━━━━━━━━━━━━\u001B[0m\u001B[37m\u001B[0m \u001B[1m0s\u001B[0m 2ms/step - loss: 34.0253 - root_mean_squared_error: 5.8313 - val_loss: 28.5884 - val_root_mean_squared_error: 5.3468\n",
      "\n",
      "Epoch 2/3                                                                      \n",
      "\n",
      "\u001B[1m 1/46\u001B[0m \u001B[37m━━━━━━━━━━━━━━━━━━━━\u001B[0m \u001B[1m0s\u001B[0m 10ms/step - loss: 26.5232 - root_mean_squared_error: 5.1501\n",
      "\u001B[1m46/46\u001B[0m \u001B[32m━━━━━━━━━━━━━━━━━━━━\u001B[0m\u001B[37m\u001B[0m \u001B[1m0s\u001B[0m 643us/step - loss: 26.5507 - root_mean_squared_error: 5.1524 - val_loss: 22.9065 - val_root_mean_squared_error: 4.7861\n",
      "\n",
      "Epoch 3/3                                                                      \n",
      "\n",
      "\u001B[1m 1/46\u001B[0m \u001B[37m━━━━━━━━━━━━━━━━━━━━\u001B[0m \u001B[1m0s\u001B[0m 10ms/step - loss: 25.1027 - root_mean_squared_error: 5.0103\n",
      "\u001B[1m46/46\u001B[0m \u001B[32m━━━━━━━━━━━━━━━━━━━━\u001B[0m\u001B[37m\u001B[0m \u001B[1m0s\u001B[0m 600us/step - loss: 21.9003 - root_mean_squared_error: 4.6784 - val_loss: 18.3466 - val_root_mean_squared_error: 4.2833\n",
      "\n",
      "\u001B[1m 1/12\u001B[0m \u001B[32m━\u001B[0m\u001B[37m━━━━━━━━━━━━━━━━━━━\u001B[0m \u001B[1m0s\u001B[0m 8ms/step - loss: 18.5089 - root_mean_squared_error: 4.3022\n",
      "\u001B[1m12/12\u001B[0m \u001B[32m━━━━━━━━━━━━━━━━━━━━\u001B[0m\u001B[37m\u001B[0m \u001B[1m0s\u001B[0m 524us/step - loss: 18.2965 - root_mean_squared_error: 4.2774\n",
      "\n",
      "100%|██████████| 8/8 [00:25<00:00,  3.21s/trial, best loss: 0.9296317100524902]\n",
      "Best parameters: {'lr': 0.005352635408260187, 'momentum': 0.6967485569975952}\n",
      "Best eval rmse: 0.9296317100524902\n"
     ]
    }
   ],
   "source": [
    "mlflow.set_experiment(\"/wine-quality\")\n",
    "with mlflow.start_run():\n",
    "    # Conduct the hyperparameter search using Hyperopt\n",
    "    trials = Trials()\n",
    "    best = fmin(\n",
    "        fn=objective,\n",
    "        space=space,\n",
    "        algo=tpe.suggest,\n",
    "        max_evals=8,\n",
    "        trials=trials,\n",
    "    )\n",
    "\n",
    "    # Fetch the details of the best run\n",
    "    best_run = sorted(trials.results, key=lambda x: x[\"loss\"])[0]\n",
    "\n",
    "    # Log the best parameters, loss, and model\n",
    "    mlflow.log_params(best)\n",
    "    mlflow.log_metric(\"eval_rmse\", best_run[\"loss\"])\n",
    "    mlflow.tensorflow.log_model(best_run[\"model\"], \"model\", signature=signature)\n",
    "\n",
    "    # Print out the best parameters and corresponding loss\n",
    "    print(f\"Best parameters: {best}\")\n",
    "    print(f\"Best eval rmse: {best_run['loss']}\")\n"
   ],
   "metadata": {
    "collapsed": false,
    "ExecuteTime": {
     "end_time": "2024-07-10T10:30:17.700940Z",
     "start_time": "2024-07-10T10:29:49.467752Z"
    }
   },
   "id": "f677c8acb376b7ab",
   "execution_count": 12
  },
  {
   "cell_type": "markdown",
   "source": [
    "# Next Steps:\n",
    "1. Go to mlflow UI, search the hyperparameter space by the experiment name\n",
    "2. Register the model with a model name\n",
    "3. mlflow models serve -m \"models:/hyper_search/1\" --port 5003 --no-conda   to host the model\n",
    "4. Infer it with curl -d '{\"dataframe_split\": {\n",
    "\"columns\": [\"fixed acidity\",\"volatile acidity\",\"citric acid\",\"residual sugar\",\"chlorides\",\"free sulfur dioxide\",\"total sulfur dioxide\",\"density\",\"pH\",\"sulphates\",\"alcohol\"],\n",
    "\"data\": [[7,0.27,0.36,20.7,0.045,45,170,1.001,3,0.45,8.8]]}}"
   ],
   "metadata": {
    "collapsed": false
   },
   "id": "8d8cebc035eae4d"
  },
  {
   "cell_type": "code",
   "outputs": [],
   "source": [],
   "metadata": {
    "collapsed": false
   },
   "id": "ae3c4bfcb74b214b"
  }
 ],
 "metadata": {
  "kernelspec": {
   "display_name": "Python 3",
   "language": "python",
   "name": "python3"
  },
  "language_info": {
   "codemirror_mode": {
    "name": "ipython",
    "version": 2
   },
   "file_extension": ".py",
   "mimetype": "text/x-python",
   "name": "python",
   "nbconvert_exporter": "python",
   "pygments_lexer": "ipython2",
   "version": "2.7.6"
  }
 },
 "nbformat": 4,
 "nbformat_minor": 5
}
