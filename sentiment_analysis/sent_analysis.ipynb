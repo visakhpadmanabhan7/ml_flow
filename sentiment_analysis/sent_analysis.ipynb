{
 "cells": [
  {
   "cell_type": "code",
   "execution_count": 2,
   "id": "initial_id",
   "metadata": {
    "collapsed": true,
    "ExecuteTime": {
     "end_time": "2024-07-24T23:36:46.339124Z",
     "start_time": "2024-07-24T23:36:44.741484Z"
    }
   },
   "outputs": [
    {
     "data": {
      "text/plain": "<Experiment: artifact_location='mlflow-artifacts:/466190818076135293', creation_time=1720608017936, experiment_id='466190818076135293', last_update_time=1720608017936, lifecycle_stage='active', name='/model-registry', tags={}>"
     },
     "execution_count": 2,
     "metadata": {},
     "output_type": "execute_result"
    }
   ],
   "source": [
    "import mlflow\n",
    "import mlflow.sklearn\n",
    "import pandas as pd\n",
    "import re\n",
    "from sklearn.feature_extraction.text import TfidfVectorizer\n",
    "from sklearn.linear_model import LogisticRegression\n",
    "from sklearn.model_selection import train_test_split\n",
    "from sklearn.metrics import accuracy_score, precision_score, recall_score, f1_score, roc_auc_score\n",
    "import pickle\n",
    "\n",
    "# Set the tracking URI to your MLflow server\n",
    "mlflow.set_tracking_uri(\"http://127.0.0.1:8082\")\n",
    "# Set the experiment\n",
    "mlflow.set_experiment(\"/model-registry\")\n"
   ]
  },
  {
   "cell_type": "markdown",
   "source": [
    "# Model Building and experiment"
   ],
   "metadata": {
    "collapsed": false
   },
   "id": "f56e21448fd08021"
  },
  {
   "cell_type": "code",
   "outputs": [],
   "source": [
    "def preprocess_text(text):\n",
    "    text = re.sub('<br />', ' ', text)\n",
    "    text = re.sub('[^a-zA-Z]', ' ', text)\n",
    "    text = text.lower()\n",
    "    return text\n",
    "\n",
    "def preprocess_data(input_file):\n",
    "    data = pd.read_csv(input_file)\n",
    "    data['cleaned_review'] = data['review'].apply(preprocess_text)\n",
    "    vectorizer = TfidfVectorizer(max_features=10000)\n",
    "    X = vectorizer.fit_transform(data['cleaned_review'])\n",
    "    y = data['sentiment'].apply(lambda x: 1 if x == 'positive' else 0)\n",
    "    with open('models/tfidf_vectorizer.pkl', 'wb') as f:\n",
    "        pickle.dump(vectorizer, f)\n",
    "    return X, y\n",
    "\n",
    "# Preprocess data\n",
    "X, y = preprocess_data('IMDB Dataset.csv')\n"
   ],
   "metadata": {
    "collapsed": false,
    "ExecuteTime": {
     "end_time": "2024-07-24T23:36:52.727292Z",
     "start_time": "2024-07-24T23:36:47.045688Z"
    }
   },
   "id": "22a9e57ec12b9067",
   "execution_count": 3
  },
  {
   "cell_type": "code",
   "outputs": [
    {
     "name": "stderr",
     "output_type": "stream",
     "text": [
      "Successfully registered model 'logistic-regression-sentiment-model'.\n",
      "2024/07/25 01:36:59 INFO mlflow.store.model_registry.abstract_store: Waiting up to 300 seconds for model version to finish creation. Model name: logistic-regression-sentiment-model, version 1\n"
     ]
    },
    {
     "name": "stdout",
     "output_type": "stream",
     "text": [
      "Model training and logging completed.\n",
      "Run ID: 5a267d3d081e462d8831d8b1a9d20dc9\n"
     ]
    },
    {
     "name": "stderr",
     "output_type": "stream",
     "text": [
      "Created version '1' of model 'logistic-regression-sentiment-model'.\n"
     ]
    }
   ],
   "source": [
    "with mlflow.start_run() as run:\n",
    "    X_train, X_test, y_train, y_test = train_test_split(X, y, test_size=0.2, random_state=42)\n",
    "    \n",
    "    params = {\"max_iter\": 100, \"random_state\": 42}\n",
    "    model = LogisticRegression(**params)\n",
    "    model.fit(X_train, y_train)\n",
    "    \n",
    "    # Log parameters\n",
    "    mlflow.log_params(params)\n",
    "    \n",
    "    # Make predictions and log metrics\n",
    "    y_pred = model.predict(X_test)\n",
    "    metrics = {\n",
    "        \"accuracy\": accuracy_score(y_test, y_pred),\n",
    "        \"precision\": precision_score(y_test, y_pred),\n",
    "        \"recall\": recall_score(y_test, y_pred),\n",
    "        \"f1_score\": f1_score(y_test, y_pred),\n",
    "        \"roc_auc\": roc_auc_score(y_test, model.predict_proba(X_test)[:, 1])\n",
    "    }\n",
    "    mlflow.log_metrics(metrics)\n",
    "    \n",
    "    # Log the model and register it\n",
    "    mlflow.sklearn.log_model(\n",
    "        sk_model=model,\n",
    "        artifact_path=\"logistic-regression-model\",\n",
    "        input_example=X_train,\n",
    "        registered_model_name=\"logistic-regression-sentiment-model\"\n",
    "    )\n",
    "\n",
    "    # Save test data for later use\n",
    "    with open('models/X_test.pkl', 'wb') as f:\n",
    "        pickle.dump(X_test, f)\n",
    "    with open('models/y_test.pkl', 'wb') as f:\n",
    "        pickle.dump(y_test, f)\n",
    "    \n",
    "    print(\"Model training and logging completed.\")\n",
    "    print(\"Run ID:\", run.info.run_id)\n"
   ],
   "metadata": {
    "collapsed": false,
    "ExecuteTime": {
     "end_time": "2024-07-24T23:36:59.592202Z",
     "start_time": "2024-07-24T23:36:52.728691Z"
    }
   },
   "id": "52f9c1bf9cd4464",
   "execution_count": 4
  },
  {
   "cell_type": "code",
   "outputs": [
    {
     "data": {
      "text/plain": "Downloading artifacts:   0%|          | 0/6 [00:00<?, ?it/s]",
      "application/vnd.jupyter.widget-view+json": {
       "version_major": 2,
       "version_minor": 0,
       "model_id": "a014c67887d34339a869d1b35acf2798"
      }
     },
     "metadata": {},
     "output_type": "display_data"
    },
    {
     "name": "stdout",
     "output_type": "stream",
     "text": [
      "Model evaluation completed: {'accuracy': 0.8994, 'precision': 0.8913254414903939, 'recall': 0.9114903750744195, 'f1_score': 0.9012951334379906, 'roc_auc': 0.9641062962270623}\n"
     ]
    }
   ],
   "source": [
    "def evaluate_model(model, X_test, y_test):\n",
    "    y_pred = model.predict(X_test)\n",
    "    metrics = {\n",
    "        \"accuracy\": accuracy_score(y_test, y_pred),\n",
    "        \"precision\": precision_score(y_test, y_pred),\n",
    "        \"recall\": recall_score(y_test, y_pred),\n",
    "        \"f1_score\": f1_score(y_test, y_pred),\n",
    "        \"roc_auc\": roc_auc_score(y_test, model.predict_proba(X_test)[:, 1])\n",
    "    }\n",
    "    for metric_name, metric_value in metrics.items():\n",
    "        mlflow.log_metric(metric_name, metric_value)\n",
    "    return metrics\n",
    "\n",
    "# Load test data and model\n",
    "with open('models/X_test.pkl', 'rb') as f:\n",
    "    X_test = pickle.load(f)\n",
    "with open('models/y_test.pkl', 'rb') as f:\n",
    "    y_test = pickle.load(f)\n",
    "model = mlflow.sklearn.load_model(\"models:/logistic-regression-sentiment-model/1\")\n",
    "\n",
    "# Evaluate the model\n",
    "metrics = evaluate_model(model, X_test, y_test)\n",
    "print(\"Model evaluation completed:\", metrics)\n"
   ],
   "metadata": {
    "collapsed": false,
    "ExecuteTime": {
     "end_time": "2024-07-24T23:37:01.763122Z",
     "start_time": "2024-07-24T23:37:01.336888Z"
    }
   },
   "id": "783edc75634ca533",
   "execution_count": 5
  }
 ],
 "metadata": {
  "kernelspec": {
   "display_name": "Python 3",
   "language": "python",
   "name": "python3"
  },
  "language_info": {
   "codemirror_mode": {
    "name": "ipython",
    "version": 2
   },
   "file_extension": ".py",
   "mimetype": "text/x-python",
   "name": "python",
   "nbconvert_exporter": "python",
   "pygments_lexer": "ipython2",
   "version": "2.7.6"
  }
 },
 "nbformat": 4,
 "nbformat_minor": 5
}
